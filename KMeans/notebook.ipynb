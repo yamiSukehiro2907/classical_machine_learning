{
 "cells": [
  {
   "cell_type": "code",
   "execution_count": 1,
   "id": "6902ee3a",
   "metadata": {},
   "outputs": [],
   "source": [
    "import pandas as pd\n",
    "# K-meabs\n",
    "# Grouping similar data points together into a predifined number of clusters k\n",
    "# Non-overlapping clusters "
   ]
  },
  {
   "cell_type": "code",
   "execution_count": 2,
   "id": "5f2ed702",
   "metadata": {},
   "outputs": [],
   "source": [
    "# Drawbacks\n",
    "# K is not defined by the algorithm and we need to tell the algo that we needs k cluster\n",
    "# After K-mean clustering gives the output then We need to do perform the profiling (dividig the data into class 1 and 0s)"
   ]
  },
  {
   "cell_type": "code",
   "execution_count": null,
   "id": "4516be96",
   "metadata": {},
   "outputs": [],
   "source": [
    "# It is very important to scale the data like MinMaxScaler"
   ]
  },
  {
   "cell_type": "code",
   "execution_count": 3,
   "id": "5219eeef",
   "metadata": {},
   "outputs": [],
   "source": [
    "#Steps\n",
    "# Initialize k \n",
    "# Take centroids of clusters (because a random guess can be so far away that it may take large number of iteration in convergence)\n",
    "# Calculate the distance of each datapoint from each centroid\n",
    "# Assign the data points to the cluster having smallest distance (distance between cluster's centroid to data point)\n",
    "# Find the updated k data points again where k for the cluster will be the average of data points assigned to that cluster\n",
    "# Repeat this until there is no significant move between k centroids between iterations"
   ]
  }
 ],
 "metadata": {
  "kernelspec": {
   "display_name": "Python 3",
   "language": "python",
   "name": "python3"
  },
  "language_info": {
   "codemirror_mode": {
    "name": "ipython",
    "version": 3
   },
   "file_extension": ".py",
   "mimetype": "text/x-python",
   "name": "python",
   "nbconvert_exporter": "python",
   "pygments_lexer": "ipython3",
   "version": "3.13.3"
  }
 },
 "nbformat": 4,
 "nbformat_minor": 5
}
