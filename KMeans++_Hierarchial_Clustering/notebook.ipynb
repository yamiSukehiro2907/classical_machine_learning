{
 "cells": [
  {
   "cell_type": "code",
   "execution_count": null,
   "id": "5a52380e",
   "metadata": {},
   "outputs": [],
   "source": [
    "import pandas as pd\n",
    "#Initialization of K \n",
    "# In order to make sure that the initialized centroids are within the scope of thr clusters , we choose the centroids by picking one randomly data points"
   ]
  },
  {
   "cell_type": "code",
   "execution_count": null,
   "id": "8d40358e",
   "metadata": {},
   "outputs": [],
   "source": [
    "# If all the clusters center are assigned to close each other then the assignment & update of centroid will not be there and no convergence"
   ]
  },
  {
   "cell_type": "code",
   "execution_count": null,
   "id": "1c5a9d79",
   "metadata": {},
   "outputs": [],
   "source": [
    "# K_means\n",
    "# The K centroids are chosen from the data\n",
    "# Pick the centroids iteratively:\n",
    "     # - Pick one random point as first centroid\n",
    "     # - From this c1 calculate the distance of all other data points and pick the second centroid which is at max distance from c1\n",
    "     # - From c1 and c2 calculate distance of all other data points and pick the third centroid which is at max distance from c1 & c2\n",
    "     # - Continue until we get all k centroid\n"
   ]
  },
  {
   "cell_type": "code",
   "execution_count": null,
   "id": "9e4dd363",
   "metadata": {},
   "outputs": [],
   "source": [
    "## Two Critical Step\n",
    "\n",
    "# Initialization of k-centroids -> K_Means++\n",
    "# Choice of K\n",
    "    # Business Logic: If we are aware about out datasets / customers then go on the basis of your awareness\n",
    "    # Elbow Curve\n",
    "    # Silhoutte Curve"
   ]
  },
  {
   "cell_type": "code",
   "execution_count": null,
   "id": "90bac374",
   "metadata": {},
   "outputs": [],
   "source": [
    "# Elbow Curve \n",
    "## wcss (WithIn cluster sum of square) : for each cluster find out the sum of squared distance of data points from the cluster they lie in\n",
    "\n",
    "# Objective : Minimize the inter-cluster variance \n",
    "\n",
    "# The elbow point is located where there is a sudden high decrement in WCSS\n",
    "# At k = 1 -> UnderFit (WCSS == highest)\n",
    "# At k = dataset.length -> OverFit (WCSS == 0)"
   ]
  },
  {
   "cell_type": "code",
   "execution_count": null,
   "id": "c4a04aec",
   "metadata": {},
   "outputs": [],
   "source": [
    "# Silhoutte Score\n",
    "# Objective:\n",
    "   # Each cluster is highly packed\n",
    "   # Each cluster is well seperated from other clusters\n",
    "   \n",
    "# S(xi) = (b - a) / max (a , b)\n",
    "\n",
    "# a -> Intra distance :- Avg distance of a point xi to other points within its own cluster\n",
    "# b -> Inter distance :- Avg distance of a point xi to other points within the other clusters\n",
    "\n",
    "# The range  of s_score is -1 to 1\n",
    "# -1 when a > b , 0 when a == b , 1 when b > a\n",
    "\n",
    "# s    # optimized (it forms a curve)   Value of k where intra distance is low and inter distance is high as possible\n",
    "# |      __|__\n",
    "# |     /     \\\n",
    "# |    /       \\\n",
    "# |   /         \\\n",
    "# |  /           \\\n",
    "# | /             \\\n",
    "# |_______________________ k"
   ]
  },
  {
   "cell_type": "code",
   "execution_count": null,
   "id": "6e9e742b",
   "metadata": {},
   "outputs": [],
   "source": [
    "# Hierarchial Clustering\n",
    "# First create cluster then find best value of k\n",
    "# Find the distance of each point from all other points\n",
    "# First cluster ne the one where the distance between two points is minimum  (Either take avg , or minimum distance among all the points of that cluster let DF forms a cluster then distance = Min(A-D , A-F)) # Single Linkage (if max the completd linkage)\n",
    "# Dendogram -> Way to represent how the points converge to create cluster \n",
    "# The number of cuts by a horizontal line at any particular time gives us the number of k / clusters"
   ]
  }
 ],
 "metadata": {
  "kernelspec": {
   "display_name": "Python 3",
   "language": "python",
   "name": "python3"
  },
  "language_info": {
   "codemirror_mode": {
    "name": "ipython",
    "version": 3
   },
   "file_extension": ".py",
   "mimetype": "text/x-python",
   "name": "python",
   "nbconvert_exporter": "python",
   "pygments_lexer": "ipython3",
   "version": "3.13.3"
  }
 },
 "nbformat": 4,
 "nbformat_minor": 5
}
