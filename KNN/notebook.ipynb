{
 "cells": [
  {
   "cell_type": "code",
   "execution_count": null,
   "id": "0d446885",
   "metadata": {},
   "outputs": [],
   "source": [
    "import pandas as pd\n",
    "# KNN is a non-parametric algorithm (without any learning) \n",
    "# K-Nearest Neighbor -> it looks for the y of k-nearest data points and predict according to that\n",
    "# Suppose k-nearest points are classified as negative then it will be also classfied as negative\n",
    "# It works both on Linear Regression and Logistic Regression"
   ]
  },
  {
   "cell_type": "code",
   "execution_count": null,
   "id": "74b4146e",
   "metadata": {},
   "outputs": [],
   "source": [
    "# For linear reqgression we take the mean of nearest k data points x\n",
    "# K is always an odd number (to make sure there should be no tie in classification)\n",
    "# when k is very small then we are becoming overfitted model (high variance and low bias)\n",
    "# when k is very high then we are becoming underfitted model (low variance and high bias)"
   ]
  },
  {
   "cell_type": "code",
   "execution_count": null,
   "id": "8eff8544",
   "metadata": {},
   "outputs": [],
   "source": [
    "# Weighted KNN\n",
    "# Higher the distance , lower the weight (giving priority to data points that make significant CONTRIBUTION)"
   ]
  }
 ],
 "metadata": {
  "kernelspec": {
   "display_name": "Python 3",
   "language": "python",
   "name": "python3"
  },
  "language_info": {
   "codemirror_mode": {
    "name": "ipython",
    "version": 3
   },
   "file_extension": ".py",
   "mimetype": "text/x-python",
   "name": "python",
   "nbconvert_exporter": "python",
   "pygments_lexer": "ipython3",
   "version": "3.13.3"
  }
 },
 "nbformat": 4,
 "nbformat_minor": 5
}
