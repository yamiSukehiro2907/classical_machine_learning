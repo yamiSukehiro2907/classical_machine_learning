{
 "cells": [
  {
   "cell_type": "code",
   "execution_count": 1,
   "id": "2cb8239c",
   "metadata": {},
   "outputs": [],
   "source": [
    "import pandas as pd\n",
    "# 10 12 11 3 4 89 32 34\n",
    "# Creating a descision tree as a if else\n",
    "# We divide the dataset with a flowchart-like structure tree to different nodes and edges as Yes or No"
   ]
  },
  {
   "cell_type": "code",
   "execution_count": 2,
   "id": "c921f862",
   "metadata": {},
   "outputs": [],
   "source": [
    "# Concept of Impurity Measures\n",
    "## Impurity Measure: Quantitaive value that how many classes are present in the node/dataset\n",
    "## The objective of the DT Algorithm to minimize the node impurity by finding the boundaries"
   ]
  },
  {
   "cell_type": "code",
   "execution_count": null,
   "id": "981e7c97",
   "metadata": {},
   "outputs": [],
   "source": [
    "# The first node is found by the column having lowest impurity"
   ]
  },
  {
   "cell_type": "code",
   "execution_count": 4,
   "id": "46aac9a1",
   "metadata": {},
   "outputs": [],
   "source": [
    "# Impurity Measures\n",
    "# Entropy:- "
   ]
  },
  {
   "cell_type": "code",
   "execution_count": 5,
   "id": "b400f647",
   "metadata": {},
   "outputs": [],
   "source": [
    "import numpy as np\n",
    "def entropy(p1 , p2):\n",
    "    if p1 == 0 and p2 == 0:\n",
    "        return 0\n",
    "    entropy_val = 0\n",
    "    if p1 > 0:\n",
    "        entropy_val -= p1 * np.log2(p1)\n",
    "    if p2 > 0:\n",
    "        entropy_val -= p2 * np.log2(p2)\n",
    "    return entropy_val"
   ]
  },
  {
   "cell_type": "code",
   "execution_count": 6,
   "id": "9ea9214a",
   "metadata": {},
   "outputs": [
    {
     "data": {
      "text/plain": [
       "np.float64(0.9402859586706311)"
      ]
     },
     "execution_count": 6,
     "metadata": {},
     "output_type": "execute_result"
    }
   ],
   "source": [
    "entropy(5/14 , 9/14)"
   ]
  },
  {
   "cell_type": "code",
   "execution_count": 7,
   "id": "2934d258",
   "metadata": {},
   "outputs": [],
   "source": [
    "## for independent variable find the reduction in the impurity , if we chose that independent variable as a split rule"
   ]
  },
  {
   "cell_type": "code",
   "execution_count": 8,
   "id": "fd8ef64e",
   "metadata": {},
   "outputs": [
    {
     "data": {
      "text/plain": [
       "np.float64(0.9110633930116763)"
      ]
     },
     "execution_count": 8,
     "metadata": {},
     "output_type": "execute_result"
    }
   ],
   "source": [
    "## Entropy for temp\n",
    "(4/14) * (entropy(2/4 , 2/4)) + (4/14) * (entropy(3/4 , 1/4)) + (6/14) * (entropy(4/6 , 2/6))"
   ]
  },
  {
   "cell_type": "code",
   "execution_count": 9,
   "id": "016e5293",
   "metadata": {},
   "outputs": [
    {
     "data": {
      "text/plain": [
       "np.float64(0.7884504573082896)"
      ]
     },
     "execution_count": 9,
     "metadata": {},
     "output_type": "execute_result"
    }
   ],
   "source": [
    "## Entropy for Humidity\n",
    "(7/14) * ((entropy(6/7 , 1/7)) + (entropy(3/7 , 4/7)))"
   ]
  },
  {
   "cell_type": "code",
   "execution_count": 10,
   "id": "336ef5d8",
   "metadata": {},
   "outputs": [],
   "source": [
    "## Reduction = Overall - Entropy(column)\n",
    "### Choose the column with maximum gain/reduction "
   ]
  },
  {
   "cell_type": "code",
   "execution_count": 11,
   "id": "e6eed1c3",
   "metadata": {},
   "outputs": [
    {
     "data": {
      "text/html": [
       "<div>\n",
       "<style scoped>\n",
       "    .dataframe tbody tr th:only-of-type {\n",
       "        vertical-align: middle;\n",
       "    }\n",
       "\n",
       "    .dataframe tbody tr th {\n",
       "        vertical-align: top;\n",
       "    }\n",
       "\n",
       "    .dataframe thead th {\n",
       "        text-align: right;\n",
       "    }\n",
       "</style>\n",
       "<table border=\"1\" class=\"dataframe\">\n",
       "  <thead>\n",
       "    <tr style=\"text-align: right;\">\n",
       "      <th></th>\n",
       "      <th>Gender</th>\n",
       "      <th>Car_Type</th>\n",
       "      <th>Shirt_Size</th>\n",
       "      <th>Class</th>\n",
       "    </tr>\n",
       "  </thead>\n",
       "  <tbody>\n",
       "    <tr>\n",
       "      <th>0</th>\n",
       "      <td>M</td>\n",
       "      <td>Family</td>\n",
       "      <td>S</td>\n",
       "      <td>C0</td>\n",
       "    </tr>\n",
       "    <tr>\n",
       "      <th>1</th>\n",
       "      <td>M</td>\n",
       "      <td>Sports</td>\n",
       "      <td>M</td>\n",
       "      <td>C0</td>\n",
       "    </tr>\n",
       "    <tr>\n",
       "      <th>2</th>\n",
       "      <td>M</td>\n",
       "      <td>Sports</td>\n",
       "      <td>M</td>\n",
       "      <td>C0</td>\n",
       "    </tr>\n",
       "    <tr>\n",
       "      <th>3</th>\n",
       "      <td>M</td>\n",
       "      <td>Sports</td>\n",
       "      <td>L</td>\n",
       "      <td>C0</td>\n",
       "    </tr>\n",
       "    <tr>\n",
       "      <th>4</th>\n",
       "      <td>M</td>\n",
       "      <td>Sports</td>\n",
       "      <td>XL</td>\n",
       "      <td>C0</td>\n",
       "    </tr>\n",
       "  </tbody>\n",
       "</table>\n",
       "</div>"
      ],
      "text/plain": [
       "  Gender Car_Type Shirt_Size Class\n",
       "0      M   Family          S    C0\n",
       "1      M   Sports          M    C0\n",
       "2      M   Sports          M    C0\n",
       "3      M   Sports          L    C0\n",
       "4      M   Sports         XL    C0"
      ]
     },
     "execution_count": 11,
     "metadata": {},
     "output_type": "execute_result"
    }
   ],
   "source": [
    "import pandas as pd\n",
    "\n",
    "df = pd.DataFrame({\n",
    "    \"Gender\": ['M', 'M', 'M', 'M', 'M', 'M', 'F', 'F', 'F', 'F', \n",
    "               'M', 'M', 'M', 'M', 'F', 'F', 'F', 'F', 'F', 'F'],\n",
    "    \"Car_Type\": [\"Family\", \"Sports\", \"Sports\", \"Sports\", \"Sports\", \"Sports\", \n",
    "                 \"Sports\", \"Sports\", \"Sports\", \"Luxury\", \"Family\", \"Family\", \"Family\", \n",
    "                 \"Luxury\", \"Luxury\", \"Luxury\", \"Luxury\", \"Luxury\", \"Luxury\", \"Luxury\"],\n",
    "    \"Shirt_Size\": [\"S\", \"M\", \"M\", \"L\", \"XL\", \"XL\", \"S\", \"S\", \"M\", \"L\", \n",
    "                   \"L\", \"XL\", \"M\", \"XL\", \"S\", \"S\", \"M\", \"M\", \"M\", \"L\"],\n",
    "    \"Class\": [\"C0\", \"C0\", \"C0\", \"C0\", \"C0\", \"C0\", \"C0\", \"C0\", \"C0\", \"C0\", \n",
    "              \"C1\", \"C1\", \"C1\", \"C1\", \"C1\", \"C1\", \"C1\", \"C1\", \"C1\", \"C1\"]\n",
    "})\n",
    "\n",
    "df.head()"
   ]
  },
  {
   "cell_type": "code",
   "execution_count": 12,
   "id": "e1648640",
   "metadata": {},
   "outputs": [
    {
     "data": {
      "text/plain": [
       "np.float64(1.0)"
      ]
     },
     "execution_count": 12,
     "metadata": {},
     "output_type": "execute_result"
    }
   ],
   "source": [
    "## OverAll Entropy\n",
    "df.Class.value_counts()\n",
    "entropy(10/20 , 10/20)"
   ]
  },
  {
   "cell_type": "code",
   "execution_count": 13,
   "id": "3ef0b3a7",
   "metadata": {},
   "outputs": [],
   "source": [
    "# Gender Entropy\n",
    "total_male = df[(df.Gender==\"M\")].shape[0]\n",
    "total_female = df[(df.Gender==\"F\")].shape[0]\n",
    "male_yes = df[(df.Gender==\"M\") & (df.Class ==\"C0\")].shape[0]\n",
    "male_no = total_male - male_yes\n",
    "female_yes = df[(df.Gender==\"F\") & (df.Class ==\"C0\")].shape[0]\n",
    "female_no = total_female - female_yes"
   ]
  },
  {
   "cell_type": "code",
   "execution_count": 14,
   "id": "d6b57832",
   "metadata": {},
   "outputs": [
    {
     "data": {
      "text/plain": [
       "np.float64(0.9709505944546686)"
      ]
     },
     "execution_count": 14,
     "metadata": {},
     "output_type": "execute_result"
    }
   ],
   "source": [
    "total_male/20 * entropy(male_yes/total_male , male_no/total_male) + total_female/20 * entropy(female_no/total_female , female_yes/total_female)"
   ]
  },
  {
   "cell_type": "code",
   "execution_count": 15,
   "id": "b96fe019",
   "metadata": {},
   "outputs": [
    {
     "data": {
      "text/plain": [
       "np.float64(0.15000000000000002)"
      ]
     },
     "execution_count": 15,
     "metadata": {},
     "output_type": "execute_result"
    }
   ],
   "source": [
    "## CarType Entropy\n",
    "df.Car_Type.value_counts()\n",
    "total_sports = df[df.Car_Type == \"Sports\"].shape[0]\n",
    "total_luxury =  df[df.Car_Type == \"Luxury\"].shape[0]\n",
    "total_family =  df[df.Car_Type == \"Family\"].shape[0]\n",
    "total_sports_yes = df[(df.Car_Type == \"Sports\") & (df.Class == \"C0\")].shape[0]\n",
    "total_luxury_yes = df[(df.Car_Type == \"Luxury\") & (df.Class == \"C0\")].shape[0]\n",
    "total_family_yes = df[(df.Car_Type == \"Family\") & (df.Class == \"C0\")].shape[0]\n",
    "total_sports/20*(entropy(total_sports_yes / total_sports , (1- total_sports_yes)/total_sports))\n",
    "+ total_family/20*(entropy(total_family_yes / total_family , (1- total_family_yes)/total_family))\n",
    "+ total_luxury/20*(entropy(total_luxury_yes / total_luxury , (1- total_luxury_yes)/total_luxury))"
   ]
  },
  {
   "cell_type": "code",
   "execution_count": 16,
   "id": "c9185d55",
   "metadata": {},
   "outputs": [
    {
     "data": {
      "text/plain": [
       "Shirt_Size  Class\n",
       "L           C0       2\n",
       "            C1       2\n",
       "M           C1       4\n",
       "            C0       3\n",
       "S           C0       3\n",
       "            C1       2\n",
       "XL          C0       2\n",
       "            C1       2\n",
       "Name: count, dtype: int64"
      ]
     },
     "execution_count": 16,
     "metadata": {},
     "output_type": "execute_result"
    }
   ],
   "source": [
    "df.drop(columns=['Car_Type' , 'Gender']).groupby('Shirt_Size').value_counts()"
   ]
  },
  {
   "cell_type": "code",
   "execution_count": null,
   "id": "141d63fe",
   "metadata": {},
   "outputs": [],
   "source": [
    "## How decision tree works with numerical columns?\n",
    "# In the case of categorical column , the DT algorithm will take each unique value as a \n",
    "# category to compute weighted impurity measure and this will be super computationally expensive?\n",
    "\n",
    "# We will bucketize the column into range so that there should not be high number of unique categories\n",
    "\n",
    "## If the decision tree algorithm is not controlled then it will keep on dividing data upto it gets highest impurity state"
   ]
  },
  {
   "cell_type": "code",
   "execution_count": null,
   "id": "fbd45c54",
   "metadata": {},
   "outputs": [],
   "source": [
    "# Hyper-Parameter Tuning (it helps us the power to control the behaviour of the Decision Tree algo)\n",
    "\n",
    "# Max-depth\n",
    "# depth the number of constraints we let DT to create\n",
    "# IF depth is less then it will create underfit model\n",
    "# If depth is high then it will create a overfit model as it will try to create constraints for each unique value in column\n"
   ]
  },
  {
   "cell_type": "code",
   "execution_count": null,
   "id": "9594e93c",
   "metadata": {},
   "outputs": [],
   "source": [
    "# Leaf Node: The nodes having the final label assigned\n",
    "# Decision Node: Constraints applied to any node\n",
    "\n",
    "\n",
    "# min-sample leaf\n",
    "# Minimum number of records a leaf should have to be called Leaf node\n",
    "\n",
    "\n",
    "# min-sample split\n",
    "# Minimum number of records to be present in sample to be further splitted/ constraints applied"
   ]
  },
  {
   "cell_type": "code",
   "execution_count": null,
   "id": "e8942e67",
   "metadata": {},
   "outputs": [],
   "source": [
    "# Outliers will only affect DT if only if there is high max-depth\n",
    "\n",
    "# We do not need to perform feature scaling because both Entropy and Gini Index does not involve varibles\n",
    "\n",
    "# Class imbalance highly impacts DT (We use weighted class balance)\n",
    "\n",
    "# We can perform multiclass classification without any changes in algo"
   ]
  },
  {
   "cell_type": "code",
   "execution_count": null,
   "id": "7155f7b8",
   "metadata": {},
   "outputs": [],
   "source": [
    "# Decision Tree Regressor \n",
    "# Step-1 : Calculate the average of target feature to get the overall model\n",
    "## The MSE will be high\n",
    "# Step-2 : Calculate the MSE for overall model\n",
    " \n",
    "# Step-3: Find the best split the get the least MSE"
   ]
  }
 ],
 "metadata": {
  "kernelspec": {
   "display_name": "Python 3",
   "language": "python",
   "name": "python3"
  },
  "language_info": {
   "codemirror_mode": {
    "name": "ipython",
    "version": 3
   },
   "file_extension": ".py",
   "mimetype": "text/x-python",
   "name": "python",
   "nbconvert_exporter": "python",
   "pygments_lexer": "ipython3",
   "version": "3.13.3"
  }
 },
 "nbformat": 4,
 "nbformat_minor": 5
}
