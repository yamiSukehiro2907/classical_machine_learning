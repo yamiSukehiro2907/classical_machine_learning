{
 "cells": [
  {
   "cell_type": "code",
   "execution_count": 285,
   "id": "04531e4c",
   "metadata": {},
   "outputs": [],
   "source": [
    "import pandas as pd\n",
    "## Bagging is used to add variance and not allow model to be overfitted\n",
    "## All Decision Trees run independently\n"
   ]
  },
  {
   "cell_type": "code",
   "execution_count": 286,
   "id": "b40c4466",
   "metadata": {},
   "outputs": [],
   "source": [
    "# Boosting\n",
    "# Sequential :- Each model is dependent on the outcome of the previous model\n",
    "# The main idea of Boosting is that One single model is not able to perform well with all types of datasets\n",
    "# After iteratively improving the outcomes of the model we can get a better model (with less errors)\n",
    "# At each iteration error reduction will happen\n",
    "\n",
    "# Steps:\n",
    "# Create a base model with y_pred = average_y\n",
    "# Calculate error done by this model (Error1 = y_actual - f1(x))\n",
    "# Fit a model taking X and target as Error1\n",
    "# Adjusted predictions of this model based on target ( => f1(X) + f2(X))\n",
    "# Calculate error (Error2 = y_actual - (f1(X) + f2(X)))\n",
    "# so on....\n",
    "\n",
    "\n",
    "# Here we are boosting the predictive power and reducing the errors\n",
    "\n",
    "# fn(X) = fn-1(X) + gamma * fn(X) \n",
    "# gamma tells how much the current models outcome partcipate \n",
    "\n",
    "\n",
    "\n",
    "# n_estimators = number of model / iterations is an hyperparameter"
   ]
  },
  {
   "cell_type": "code",
   "execution_count": 287,
   "id": "ba9ec508",
   "metadata": {},
   "outputs": [],
   "source": [
    "# Learning Rate (α) = 0.5\n",
    "import numpy as np\n",
    "x1 = [1 , 2 , 3 , 4 , 5]\n",
    "x2 = [2 , 4 , 1 , 3 , 5]\n",
    "y_actual = [3 , 7 , 2 , 8 , 12]"
   ]
  },
  {
   "cell_type": "code",
   "execution_count": 288,
   "id": "5f3b985f",
   "metadata": {},
   "outputs": [
    {
     "data": {
      "text/plain": [
       "[np.float64(6.4),\n",
       " np.float64(6.4),\n",
       " np.float64(6.4),\n",
       " np.float64(6.4),\n",
       " np.float64(6.4)]"
      ]
     },
     "execution_count": 288,
     "metadata": {},
     "output_type": "execute_result"
    }
   ],
   "source": [
    "y_avg = np.sum(y_actual)/5\n",
    "y_avg\n",
    "# f0\n",
    "f0 = [y_avg , y_avg , y_avg , y_avg , y_avg]\n",
    "f0"
   ]
  },
  {
   "cell_type": "code",
   "execution_count": 289,
   "id": "c4814840",
   "metadata": {},
   "outputs": [
    {
     "data": {
      "text/plain": [
       "[np.float64(-3.4000000000000004),\n",
       " np.float64(0.5999999999999996),\n",
       " np.float64(-4.4),\n",
       " np.float64(1.5999999999999996),\n",
       " np.float64(5.6)]"
      ]
     },
     "execution_count": 289,
     "metadata": {},
     "output_type": "execute_result"
    }
   ],
   "source": [
    "# Iteration1\n",
    "error1 = []\n",
    "for y in y_actual:\n",
    "    error1.append((y - y_avg))\n",
    "error1"
   ]
  },
  {
   "cell_type": "code",
   "execution_count": 290,
   "id": "a94b3440",
   "metadata": {},
   "outputs": [
    {
     "data": {
      "text/plain": [
       "[np.float64(5.4),\n",
       " np.float64(5.4),\n",
       " np.float64(7.9),\n",
       " np.float64(7.9),\n",
       " np.float64(7.9)]"
      ]
     },
     "execution_count": 290,
     "metadata": {},
     "output_type": "execute_result"
    }
   ],
   "source": [
    "f1 = []\n",
    "for i in range(0 , 5):\n",
    "    prediction = 0\n",
    "    if x1[i] <= 2 :\n",
    "        prediction = -2.0\n",
    "    else:\n",
    "        prediction = 3.0\n",
    "    f1.append(f0[i] +0.5 * prediction)\n",
    "\n",
    "f1\n",
    "    "
   ]
  },
  {
   "cell_type": "code",
   "execution_count": null,
   "id": "3f7cf55b",
   "metadata": {},
   "outputs": [
    {
     "data": {
      "text/plain": [
       "[np.float64(-2.4000000000000004),\n",
       " np.float64(1.5999999999999996),\n",
       " np.float64(-5.9),\n",
       " np.float64(0.09999999999999964),\n",
       " np.float64(4.1)]"
      ]
     },
     "execution_count": 291,
     "metadata": {},
     "output_type": "execute_result"
    }
   ],
   "source": [
    "error2 = []\n",
    "for i in range(0 , 5):\n",
    "    error2.append(y_actual[i] - (f0[i] +0.5 * prediction))\n",
    "    # first_error - 0.5 * prediction\n",
    "error2"
   ]
  },
  {
   "cell_type": "code",
   "execution_count": 292,
   "id": "8246ff1f",
   "metadata": {},
   "outputs": [
    {
     "data": {
      "text/plain": [
       "[np.float64(4.65),\n",
       " np.float64(6.0),\n",
       " np.float64(7.15),\n",
       " np.float64(7.15),\n",
       " np.float64(8.5)]"
      ]
     },
     "execution_count": 292,
     "metadata": {},
     "output_type": "execute_result"
    }
   ],
   "source": [
    "f2 = []\n",
    "for i in range(0 , 5):\n",
    "    prediction = 0\n",
    "    if x2[i] <= 3:\n",
    "        prediction = -1.5\n",
    "    else :\n",
    "        prediction = 1.2\n",
    "    f2.append(f1[i] + prediction * 0.5)\n",
    "f2"
   ]
  },
  {
   "cell_type": "code",
   "execution_count": null,
   "id": "448f5779",
   "metadata": {},
   "outputs": [
    {
     "data": {
      "text/plain": [
       "[np.float64(-1.6500000000000004),\n",
       " np.float64(1.0),\n",
       " np.float64(-5.15),\n",
       " np.float64(0.8499999999999996),\n",
       " np.float64(3.5)]"
      ]
     },
     "execution_count": 293,
     "metadata": {},
     "output_type": "execute_result"
    }
   ],
   "source": [
    "error3 = []\n",
    "for i in range(0 , 5):\n",
    "    error3.append(y_actual[i] - ((((f0[i] +0.5 * prediction2)) + prediction1 * 0.5)))\n",
    "error3"
   ]
  }
 ],
 "metadata": {
  "kernelspec": {
   "display_name": "Python 3",
   "language": "python",
   "name": "python3"
  },
  "language_info": {
   "codemirror_mode": {
    "name": "ipython",
    "version": 3
   },
   "file_extension": ".py",
   "mimetype": "text/x-python",
   "name": "python",
   "nbconvert_exporter": "python",
   "pygments_lexer": "ipython3",
   "version": "3.13.3"
  }
 },
 "nbformat": 4,
 "nbformat_minor": 5
}
