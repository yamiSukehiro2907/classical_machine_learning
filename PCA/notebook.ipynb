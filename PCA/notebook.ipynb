{
 "cells": [
  {
   "cell_type": "code",
   "execution_count": null,
   "id": "d9aa6aff",
   "metadata": {},
   "outputs": [],
   "source": [
    "# Curse of Dimensionality\n",
    "# When we increase the dimensionality we get bloock in the dimensional space where we don't have supervision and hence the algo will not able to learn anything\n",
    "\n",
    "\n",
    "# As we add independent the model learning increases exponentially but after some point it starts degrading and this is curse of dimensionality\n",
    "\n",
    "# Feature Extraction\n",
    "# Creating new features such that those features contains the summary of the others and lesser in numbers\n",
    "\n",
    "\n",
    "\n",
    "## PCA\n",
    "# Direction of max variance\n",
    "# Basis transformation (to change the representation of data from one dimensional space to another)\n",
    "# The count  will be exact same and we will choose the features having high variance\n",
    "# All PC (principal component) generated are orthogonal (that's why we do not need to worry about multicollinearity)\n",
    "# After using PCA we loose the interpretability of the data / model"
   ]
  }
 ],
 "metadata": {
  "language_info": {
   "name": "python"
  }
 },
 "nbformat": 4,
 "nbformat_minor": 5
}
